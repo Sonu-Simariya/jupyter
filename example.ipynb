{
 "cells": [
  {
   "cell_type": "code",
   "execution_count": 51,
   "metadata": {},
   "outputs": [
    {
     "name": "stdout",
     "output_type": "stream",
     "text": [
      "           User_ID                                            Name  \\\n",
      "0     194.210.1.51                                 Bonnet_phrygien   \n",
      "1              Ske                                 Bonnet_phrygien   \n",
      "2              Ske                                 Bonnet_phrygien   \n",
      "3     83.27.202.42                                 Bonnet_phrygien   \n",
      "4              Med                                 Bonnet_phrygien   \n",
      "..             ...                                             ...   \n",
      "993          Jotun                Coup_d'État_du_18_fructidor_an_V   \n",
      "994  90.22.102.140   Corps_législatif_(Consulat_et_Premier_Empire)   \n",
      "995        Dinkley                               Cocarde_tricolore   \n",
      "996        Dinkley                               Cocarde_tricolore   \n",
      "997        Dinkley  Adoption_par_Louis_XVI_de_la_cocarde_tricolore   \n",
      "\n",
      "           Date changes Amount_of_Changes Number_1 Number_2  Unnamed: 7  \n",
      "0    19-10-2004   11:02               163      NaN      NaN         NaN  \n",
      "1    19-10-2004   12:11               751      NaN      NaN         NaN  \n",
      "2    19-10-2004   12:12                17      NaN      NaN         NaN  \n",
      "3    21-10-2004   10:39                42      NaN      NaN         NaN  \n",
      "4    29-10-2004   11:06                24      NaN      NaN         NaN  \n",
      "..          ...     ...               ...      ...      ...         ...  \n",
      "993  19-07-2008   10:03                24      NaN      NaN         NaN  \n",
      "994  21-07-2008   08:07                 5      NaN      NaN         NaN  \n",
      "995  23-07-2008   08:19              2238      NaN      NaN         NaN  \n",
      "996  23-07-2008   08:25                39      NaN      NaN         NaN  \n",
      "997  23-07-2008   08:26              1699      NaN      NaN         NaN  \n",
      "\n",
      "[998 rows x 8 columns]\n"
     ]
    },
    {
     "data": {
      "text/plain": [
       "count     998\n",
       "unique    356\n",
       "top         2\n",
       "freq       47\n",
       "Name: Amount_of_Changes, dtype: object"
      ]
     },
     "execution_count": 51,
     "metadata": {},
     "output_type": "execute_result"
    }
   ],
   "source": [
    "import pandas as pd\n",
    "rog=pd.read_csv(r'C:/Users\\deepajay\\Downloads/smallwikipedia.csv')\n",
    "print(rog)\n",
    "rog['Name']\n",
    "rog['Amount_of_Changes'].describe()"
   ]
  },
  {
   "cell_type": "code",
   "execution_count": 54,
   "metadata": {},
   "outputs": [
    {
     "name": "stdout",
     "output_type": "stream",
     "text": [
      "[('Bonnet_phrygien', 63), ('Alexandre_François_Marie_de_Beauharnais', 60), ('1er_régiment_de_dragons', 52), ('Bataille_de_Cholet', 37), ('Carle_Vernet', 33), (\"Coup_d'État_du_18_fructidor_an_V\", 30), ('Caroline_chérie_(1951)', 29), ('Club_de_1789', 29), ('Camille_Borghèse', 28), ('Adoption_par_Louis_XVI_de_la_cocarde_tricolore', 27), ('Affaire_Réveillon', 25), ('André_Joseph_Abrial', 25), ('12e_régiment_de_hussards', 25), ('10e_régiment_de_hussards', 25), ('13e_régiment_de_hussards', 24), ('Complot_révolutionnaire_nantais_contre_les_modérés', 22), ('Bien_national', 20), ('Citoyen_actif', 19), (\"Complot_de_l'Œillet\", 18), ('11e_régiment_de_hussards_(France)', 18), ('Corps_législatif_(Consulat_et_Premier_Empire)', 17), ('Affaire_de_Nancy', 17), ('Augustin-Jean-Charles_Clément', 17), ('Contributions_directes', 16), (\"Armée_de_l'Ouest\", 16), ('Charles_Antoine_Chasset', 16), ('Bon_Albert_Briois_de_Beaumetz', 15), ('Conspiration_des_poignards', 15), ('Achille_Libéral_Treilhard', 14), ('Chouans_!', 14), ('Cocarde_tricolore', 13), ('Affaire_du_camp_de_Grenelle', 13), ('Ci-devant', 12), ('Conseil_exécutif_(Révolution_française)', 12), ('Accapareurs', 12), ('Comité_ecclésiastique', 12), ('Benjamin_Zix', 11), ('Conspiration_de_Bicêtre', 9), ('Club_des_Impartiaux', 9), ('Club_de_Salm', 9), ('Certificat_de_civisme', 9), (\"Comité_d'instruction_publique\", 7), (\"Coup_d'État_du_30_prairial_an_VII_(18_juin_1799)\", 6), ('Complot_de_Charenton', 6), ('Lassouras', 6), (\"Auguste_Marie_Raymond_d'Arenberg\", 6), ('Antoine_Banassat', 6), ('Blancs_(Révolution_française)', 5), ('Ilitch', 4), ('gorille', 4), ('Pied-bot', 4), ('Fontes', 4), ('5', 4), ('72', 4), ('Baiser_Lamourette', 3), ('Loi_du_28_pluviôse_an_VIII', 3), ('Antoine_François_Péré', 3), ('brivet', 3), ('Appel_nominal', 3), ('Antoine_Alexandre_Hanicque', 3), ('Berardan', 2), ('Moniot', 2), ('K', 2), ('the', 2), ('Nguyen', 2), ('Hocevar', 1), ('gonzo', 1), ('Cormier', 1), ('Crépeau', 1), ('Danielzik', 1), ('Keats', 1), ('Cigale', 1), ('Mielot', 1), ('1', 1), ('M', 1), ('le', 1), ('Banqueroute_des_deux_tiers', 1), ('Schneider', 1), ('Morand', 1), ('lapin', 1), ('113', 1), ('Kintaro', 1)]\n"
     ]
    },
    {
     "data": {
      "text/html": [
       "<div>\n",
       "<style scoped>\n",
       "    .dataframe tbody tr th:only-of-type {\n",
       "        vertical-align: middle;\n",
       "    }\n",
       "\n",
       "    .dataframe tbody tr th {\n",
       "        vertical-align: top;\n",
       "    }\n",
       "\n",
       "    .dataframe thead th {\n",
       "        text-align: right;\n",
       "    }\n",
       "</style>\n",
       "<table border=\"1\" class=\"dataframe\">\n",
       "  <thead>\n",
       "    <tr style=\"text-align: right;\">\n",
       "      <th></th>\n",
       "      <th>Name</th>\n",
       "      <th>Coss</th>\n",
       "    </tr>\n",
       "  </thead>\n",
       "  <tbody>\n",
       "    <tr>\n",
       "      <th>0</th>\n",
       "      <td>Bonnet_phrygien</td>\n",
       "      <td>63</td>\n",
       "    </tr>\n",
       "    <tr>\n",
       "      <th>1</th>\n",
       "      <td>Alexandre_François_Marie_de_Beauharnais</td>\n",
       "      <td>60</td>\n",
       "    </tr>\n",
       "    <tr>\n",
       "      <th>2</th>\n",
       "      <td>1er_régiment_de_dragons</td>\n",
       "      <td>52</td>\n",
       "    </tr>\n",
       "    <tr>\n",
       "      <th>3</th>\n",
       "      <td>Bataille_de_Cholet</td>\n",
       "      <td>37</td>\n",
       "    </tr>\n",
       "    <tr>\n",
       "      <th>4</th>\n",
       "      <td>Carle_Vernet</td>\n",
       "      <td>33</td>\n",
       "    </tr>\n",
       "    <tr>\n",
       "      <th>5</th>\n",
       "      <td>Coup_d'État_du_18_fructidor_an_V</td>\n",
       "      <td>30</td>\n",
       "    </tr>\n",
       "    <tr>\n",
       "      <th>6</th>\n",
       "      <td>Caroline_chérie_(1951)</td>\n",
       "      <td>29</td>\n",
       "    </tr>\n",
       "    <tr>\n",
       "      <th>7</th>\n",
       "      <td>Club_de_1789</td>\n",
       "      <td>29</td>\n",
       "    </tr>\n",
       "    <tr>\n",
       "      <th>8</th>\n",
       "      <td>Camille_Borghèse</td>\n",
       "      <td>28</td>\n",
       "    </tr>\n",
       "    <tr>\n",
       "      <th>9</th>\n",
       "      <td>Adoption_par_Louis_XVI_de_la_cocarde_tricolore</td>\n",
       "      <td>27</td>\n",
       "    </tr>\n",
       "    <tr>\n",
       "      <th>10</th>\n",
       "      <td>Affaire_Réveillon</td>\n",
       "      <td>25</td>\n",
       "    </tr>\n",
       "    <tr>\n",
       "      <th>11</th>\n",
       "      <td>André_Joseph_Abrial</td>\n",
       "      <td>25</td>\n",
       "    </tr>\n",
       "    <tr>\n",
       "      <th>12</th>\n",
       "      <td>12e_régiment_de_hussards</td>\n",
       "      <td>25</td>\n",
       "    </tr>\n",
       "    <tr>\n",
       "      <th>13</th>\n",
       "      <td>10e_régiment_de_hussards</td>\n",
       "      <td>25</td>\n",
       "    </tr>\n",
       "    <tr>\n",
       "      <th>14</th>\n",
       "      <td>13e_régiment_de_hussards</td>\n",
       "      <td>24</td>\n",
       "    </tr>\n",
       "    <tr>\n",
       "      <th>15</th>\n",
       "      <td>Complot_révolutionnaire_nantais_contre_les_mod...</td>\n",
       "      <td>22</td>\n",
       "    </tr>\n",
       "    <tr>\n",
       "      <th>16</th>\n",
       "      <td>Bien_national</td>\n",
       "      <td>20</td>\n",
       "    </tr>\n",
       "    <tr>\n",
       "      <th>17</th>\n",
       "      <td>Citoyen_actif</td>\n",
       "      <td>19</td>\n",
       "    </tr>\n",
       "    <tr>\n",
       "      <th>18</th>\n",
       "      <td>Complot_de_l'Œillet</td>\n",
       "      <td>18</td>\n",
       "    </tr>\n",
       "    <tr>\n",
       "      <th>19</th>\n",
       "      <td>11e_régiment_de_hussards_(France)</td>\n",
       "      <td>18</td>\n",
       "    </tr>\n",
       "  </tbody>\n",
       "</table>\n",
       "</div>"
      ],
      "text/plain": [
       "                                                 Name  Coss\n",
       "0                                     Bonnet_phrygien    63\n",
       "1             Alexandre_François_Marie_de_Beauharnais    60\n",
       "2                             1er_régiment_de_dragons    52\n",
       "3                                  Bataille_de_Cholet    37\n",
       "4                                        Carle_Vernet    33\n",
       "5                    Coup_d'État_du_18_fructidor_an_V    30\n",
       "6                              Caroline_chérie_(1951)    29\n",
       "7                                        Club_de_1789    29\n",
       "8                                    Camille_Borghèse    28\n",
       "9      Adoption_par_Louis_XVI_de_la_cocarde_tricolore    27\n",
       "10                                  Affaire_Réveillon    25\n",
       "11                                André_Joseph_Abrial    25\n",
       "12                           12e_régiment_de_hussards    25\n",
       "13                           10e_régiment_de_hussards    25\n",
       "14                           13e_régiment_de_hussards    24\n",
       "15  Complot_révolutionnaire_nantais_contre_les_mod...    22\n",
       "16                                      Bien_national    20\n",
       "17                                      Citoyen_actif    19\n",
       "18                                Complot_de_l'Œillet    18\n",
       "19                  11e_régiment_de_hussards_(France)    18"
      ]
     },
     "execution_count": 54,
     "metadata": {},
     "output_type": "execute_result"
    }
   ],
   "source": [
    "from collections import Counter\n",
    "code=Counter(rog.Name)\n",
    "coss=code.most_common(1000)\n",
    "print(coss)\n",
    "x, y=zip(*coss)\n",
    "x,y=list(x),list(y)\n",
    "name=pd.DataFrame(x)\n",
    "sup=pd.DataFrame(y)\n",
    "cot=pd.concat([name.loc[:,0],sup.loc[:,0]],axis=1)\n",
    "cot.columns=\"Name\",\"Coss\"\n",
    "cot.head(20)"
   ]
  },
  {
   "cell_type": "code",
   "execution_count": 64,
   "metadata": {},
   "outputs": [
    {
     "data": {
      "text/html": [
       "        <script type=\"text/javascript\">\n",
       "        window.PlotlyConfig = {MathJaxConfig: 'local'};\n",
       "        if (window.MathJax && window.MathJax.Hub && window.MathJax.Hub.Config) {window.MathJax.Hub.Config({SVG: {font: \"STIX-Web\"}});}\n",
       "        if (typeof require !== 'undefined') {\n",
       "        require.undef(\"plotly\");\n",
       "        requirejs.config({\n",
       "            paths: {\n",
       "                'plotly': ['https://cdn.plot.ly/plotly-2.12.1.min']\n",
       "            }\n",
       "        });\n",
       "        require(['plotly'], function(Plotly) {\n",
       "            window._Plotly = Plotly;\n",
       "        });\n",
       "        }\n",
       "        </script>\n",
       "        "
      ]
     },
     "metadata": {},
     "output_type": "display_data"
    },
    {
     "data": {
      "application/vnd.plotly.v1+json": {
       "config": {
        "linkText": "Export to plot.ly",
        "plotlyServerURL": "https://plot.ly",
        "showLink": false
       },
       "data": [
        {
         "hole": 0.4,
         "hoverinfo": "label+percent+name",
         "labels": [
          "Bonnet_phrygien",
          "Alexandre_François_Marie_de_Beauharnais",
          "1er_régiment_de_dragons",
          "Bataille_de_Cholet",
          "Carle_Vernet",
          "Coup_d'État_du_18_fructidor_an_V",
          "Caroline_chérie_(1951)",
          "Club_de_1789",
          "Camille_Borghèse",
          "Adoption_par_Louis_XVI_de_la_cocarde_tricolore",
          "Affaire_Réveillon",
          "André_Joseph_Abrial",
          "12e_régiment_de_hussards",
          "10e_régiment_de_hussards",
          "13e_régiment_de_hussards",
          "Complot_révolutionnaire_nantais_contre_les_modérés",
          "Bien_national",
          "Citoyen_actif",
          "Complot_de_l'Œillet",
          "11e_régiment_de_hussards_(France)",
          "Corps_législatif_(Consulat_et_Premier_Empire)",
          "Affaire_de_Nancy",
          "Augustin-Jean-Charles_Clément",
          "Contributions_directes",
          "Armée_de_l'Ouest",
          "Charles_Antoine_Chasset",
          "Bon_Albert_Briois_de_Beaumetz",
          "Conspiration_des_poignards",
          "Achille_Libéral_Treilhard",
          "Chouans_!",
          "Cocarde_tricolore",
          "Affaire_du_camp_de_Grenelle",
          "Ci-devant",
          "Conseil_exécutif_(Révolution_française)",
          "Accapareurs",
          "Comité_ecclésiastique",
          "Benjamin_Zix",
          "Conspiration_de_Bicêtre",
          "Club_des_Impartiaux",
          "Club_de_Salm",
          "Certificat_de_civisme",
          "Comité_d'instruction_publique",
          "Coup_d'État_du_30_prairial_an_VII_(18_juin_1799)",
          "Complot_de_Charenton",
          "Lassouras",
          "Auguste_Marie_Raymond_d'Arenberg",
          "Antoine_Banassat",
          "Blancs_(Révolution_française)",
          "Ilitch",
          "gorille",
          "Pied-bot",
          "Fontes",
          "5",
          "72",
          "Baiser_Lamourette",
          "Loi_du_28_pluviôse_an_VIII",
          "Antoine_François_Péré",
          "brivet",
          "Appel_nominal",
          "Antoine_Alexandre_Hanicque",
          "Berardan",
          "Moniot",
          "K",
          "the",
          "Nguyen",
          "Hocevar",
          "gonzo",
          "Cormier",
          "Crépeau",
          "Danielzik",
          "Keats",
          "Cigale",
          "Mielot",
          "1",
          "M",
          "le",
          "Banqueroute_des_deux_tiers",
          "Schneider",
          "Morand",
          "lapin",
          "113",
          "Kintaro"
         ],
         "name": "Name",
         "type": "pie",
         "values": [
          63,
          60,
          52,
          37,
          33,
          30,
          29,
          29,
          28,
          27,
          25,
          25,
          25,
          25,
          24,
          22,
          20,
          19,
          18,
          18,
          17,
          17,
          17,
          16,
          16,
          16,
          15,
          15,
          14,
          14,
          13,
          13,
          12,
          12,
          12,
          12,
          11,
          9,
          9,
          9,
          9,
          7,
          6,
          6,
          6,
          6,
          6,
          5,
          4,
          4,
          4,
          4,
          4,
          4,
          3,
          3,
          3,
          3,
          3,
          3,
          2,
          2,
          2,
          2,
          2,
          1,
          1,
          1,
          1,
          1,
          1,
          1,
          1,
          1,
          1,
          1,
          1,
          1,
          1,
          1,
          1,
          1
         ]
        }
       ],
       "layout": {
        "annotations": [
         {
          "font": {
           "size": 20
          },
          "showarrow": false,
          "text": "Total",
          "x": 0.5,
          "y": 0.5
         }
        ],
        "template": {
         "data": {
          "bar": [
           {
            "error_x": {
             "color": "#2a3f5f"
            },
            "error_y": {
             "color": "#2a3f5f"
            },
            "marker": {
             "line": {
              "color": "#E5ECF6",
              "width": 0.5
             },
             "pattern": {
              "fillmode": "overlay",
              "size": 10,
              "solidity": 0.2
             }
            },
            "type": "bar"
           }
          ],
          "barpolar": [
           {
            "marker": {
             "line": {
              "color": "#E5ECF6",
              "width": 0.5
             },
             "pattern": {
              "fillmode": "overlay",
              "size": 10,
              "solidity": 0.2
             }
            },
            "type": "barpolar"
           }
          ],
          "carpet": [
           {
            "aaxis": {
             "endlinecolor": "#2a3f5f",
             "gridcolor": "white",
             "linecolor": "white",
             "minorgridcolor": "white",
             "startlinecolor": "#2a3f5f"
            },
            "baxis": {
             "endlinecolor": "#2a3f5f",
             "gridcolor": "white",
             "linecolor": "white",
             "minorgridcolor": "white",
             "startlinecolor": "#2a3f5f"
            },
            "type": "carpet"
           }
          ],
          "choropleth": [
           {
            "colorbar": {
             "outlinewidth": 0,
             "ticks": ""
            },
            "type": "choropleth"
           }
          ],
          "contour": [
           {
            "colorbar": {
             "outlinewidth": 0,
             "ticks": ""
            },
            "colorscale": [
             [
              0,
              "#0d0887"
             ],
             [
              0.1111111111111111,
              "#46039f"
             ],
             [
              0.2222222222222222,
              "#7201a8"
             ],
             [
              0.3333333333333333,
              "#9c179e"
             ],
             [
              0.4444444444444444,
              "#bd3786"
             ],
             [
              0.5555555555555556,
              "#d8576b"
             ],
             [
              0.6666666666666666,
              "#ed7953"
             ],
             [
              0.7777777777777778,
              "#fb9f3a"
             ],
             [
              0.8888888888888888,
              "#fdca26"
             ],
             [
              1,
              "#f0f921"
             ]
            ],
            "type": "contour"
           }
          ],
          "contourcarpet": [
           {
            "colorbar": {
             "outlinewidth": 0,
             "ticks": ""
            },
            "type": "contourcarpet"
           }
          ],
          "heatmap": [
           {
            "colorbar": {
             "outlinewidth": 0,
             "ticks": ""
            },
            "colorscale": [
             [
              0,
              "#0d0887"
             ],
             [
              0.1111111111111111,
              "#46039f"
             ],
             [
              0.2222222222222222,
              "#7201a8"
             ],
             [
              0.3333333333333333,
              "#9c179e"
             ],
             [
              0.4444444444444444,
              "#bd3786"
             ],
             [
              0.5555555555555556,
              "#d8576b"
             ],
             [
              0.6666666666666666,
              "#ed7953"
             ],
             [
              0.7777777777777778,
              "#fb9f3a"
             ],
             [
              0.8888888888888888,
              "#fdca26"
             ],
             [
              1,
              "#f0f921"
             ]
            ],
            "type": "heatmap"
           }
          ],
          "heatmapgl": [
           {
            "colorbar": {
             "outlinewidth": 0,
             "ticks": ""
            },
            "colorscale": [
             [
              0,
              "#0d0887"
             ],
             [
              0.1111111111111111,
              "#46039f"
             ],
             [
              0.2222222222222222,
              "#7201a8"
             ],
             [
              0.3333333333333333,
              "#9c179e"
             ],
             [
              0.4444444444444444,
              "#bd3786"
             ],
             [
              0.5555555555555556,
              "#d8576b"
             ],
             [
              0.6666666666666666,
              "#ed7953"
             ],
             [
              0.7777777777777778,
              "#fb9f3a"
             ],
             [
              0.8888888888888888,
              "#fdca26"
             ],
             [
              1,
              "#f0f921"
             ]
            ],
            "type": "heatmapgl"
           }
          ],
          "histogram": [
           {
            "marker": {
             "pattern": {
              "fillmode": "overlay",
              "size": 10,
              "solidity": 0.2
             }
            },
            "type": "histogram"
           }
          ],
          "histogram2d": [
           {
            "colorbar": {
             "outlinewidth": 0,
             "ticks": ""
            },
            "colorscale": [
             [
              0,
              "#0d0887"
             ],
             [
              0.1111111111111111,
              "#46039f"
             ],
             [
              0.2222222222222222,
              "#7201a8"
             ],
             [
              0.3333333333333333,
              "#9c179e"
             ],
             [
              0.4444444444444444,
              "#bd3786"
             ],
             [
              0.5555555555555556,
              "#d8576b"
             ],
             [
              0.6666666666666666,
              "#ed7953"
             ],
             [
              0.7777777777777778,
              "#fb9f3a"
             ],
             [
              0.8888888888888888,
              "#fdca26"
             ],
             [
              1,
              "#f0f921"
             ]
            ],
            "type": "histogram2d"
           }
          ],
          "histogram2dcontour": [
           {
            "colorbar": {
             "outlinewidth": 0,
             "ticks": ""
            },
            "colorscale": [
             [
              0,
              "#0d0887"
             ],
             [
              0.1111111111111111,
              "#46039f"
             ],
             [
              0.2222222222222222,
              "#7201a8"
             ],
             [
              0.3333333333333333,
              "#9c179e"
             ],
             [
              0.4444444444444444,
              "#bd3786"
             ],
             [
              0.5555555555555556,
              "#d8576b"
             ],
             [
              0.6666666666666666,
              "#ed7953"
             ],
             [
              0.7777777777777778,
              "#fb9f3a"
             ],
             [
              0.8888888888888888,
              "#fdca26"
             ],
             [
              1,
              "#f0f921"
             ]
            ],
            "type": "histogram2dcontour"
           }
          ],
          "mesh3d": [
           {
            "colorbar": {
             "outlinewidth": 0,
             "ticks": ""
            },
            "type": "mesh3d"
           }
          ],
          "parcoords": [
           {
            "line": {
             "colorbar": {
              "outlinewidth": 0,
              "ticks": ""
             }
            },
            "type": "parcoords"
           }
          ],
          "pie": [
           {
            "automargin": true,
            "type": "pie"
           }
          ],
          "scatter": [
           {
            "fillpattern": {
             "fillmode": "overlay",
             "size": 10,
             "solidity": 0.2
            },
            "type": "scatter"
           }
          ],
          "scatter3d": [
           {
            "line": {
             "colorbar": {
              "outlinewidth": 0,
              "ticks": ""
             }
            },
            "marker": {
             "colorbar": {
              "outlinewidth": 0,
              "ticks": ""
             }
            },
            "type": "scatter3d"
           }
          ],
          "scattercarpet": [
           {
            "marker": {
             "colorbar": {
              "outlinewidth": 0,
              "ticks": ""
             }
            },
            "type": "scattercarpet"
           }
          ],
          "scattergeo": [
           {
            "marker": {
             "colorbar": {
              "outlinewidth": 0,
              "ticks": ""
             }
            },
            "type": "scattergeo"
           }
          ],
          "scattergl": [
           {
            "marker": {
             "colorbar": {
              "outlinewidth": 0,
              "ticks": ""
             }
            },
            "type": "scattergl"
           }
          ],
          "scattermapbox": [
           {
            "marker": {
             "colorbar": {
              "outlinewidth": 0,
              "ticks": ""
             }
            },
            "type": "scattermapbox"
           }
          ],
          "scatterpolar": [
           {
            "marker": {
             "colorbar": {
              "outlinewidth": 0,
              "ticks": ""
             }
            },
            "type": "scatterpolar"
           }
          ],
          "scatterpolargl": [
           {
            "marker": {
             "colorbar": {
              "outlinewidth": 0,
              "ticks": ""
             }
            },
            "type": "scatterpolargl"
           }
          ],
          "scatterternary": [
           {
            "marker": {
             "colorbar": {
              "outlinewidth": 0,
              "ticks": ""
             }
            },
            "type": "scatterternary"
           }
          ],
          "surface": [
           {
            "colorbar": {
             "outlinewidth": 0,
             "ticks": ""
            },
            "colorscale": [
             [
              0,
              "#0d0887"
             ],
             [
              0.1111111111111111,
              "#46039f"
             ],
             [
              0.2222222222222222,
              "#7201a8"
             ],
             [
              0.3333333333333333,
              "#9c179e"
             ],
             [
              0.4444444444444444,
              "#bd3786"
             ],
             [
              0.5555555555555556,
              "#d8576b"
             ],
             [
              0.6666666666666666,
              "#ed7953"
             ],
             [
              0.7777777777777778,
              "#fb9f3a"
             ],
             [
              0.8888888888888888,
              "#fdca26"
             ],
             [
              1,
              "#f0f921"
             ]
            ],
            "type": "surface"
           }
          ],
          "table": [
           {
            "cells": {
             "fill": {
              "color": "#EBF0F8"
             },
             "line": {
              "color": "white"
             }
            },
            "header": {
             "fill": {
              "color": "#C8D4E3"
             },
             "line": {
              "color": "white"
             }
            },
            "type": "table"
           }
          ]
         },
         "layout": {
          "annotationdefaults": {
           "arrowcolor": "#2a3f5f",
           "arrowhead": 0,
           "arrowwidth": 1
          },
          "autotypenumbers": "strict",
          "coloraxis": {
           "colorbar": {
            "outlinewidth": 0,
            "ticks": ""
           }
          },
          "colorscale": {
           "diverging": [
            [
             0,
             "#8e0152"
            ],
            [
             0.1,
             "#c51b7d"
            ],
            [
             0.2,
             "#de77ae"
            ],
            [
             0.3,
             "#f1b6da"
            ],
            [
             0.4,
             "#fde0ef"
            ],
            [
             0.5,
             "#f7f7f7"
            ],
            [
             0.6,
             "#e6f5d0"
            ],
            [
             0.7,
             "#b8e186"
            ],
            [
             0.8,
             "#7fbc41"
            ],
            [
             0.9,
             "#4d9221"
            ],
            [
             1,
             "#276419"
            ]
           ],
           "sequential": [
            [
             0,
             "#0d0887"
            ],
            [
             0.1111111111111111,
             "#46039f"
            ],
            [
             0.2222222222222222,
             "#7201a8"
            ],
            [
             0.3333333333333333,
             "#9c179e"
            ],
            [
             0.4444444444444444,
             "#bd3786"
            ],
            [
             0.5555555555555556,
             "#d8576b"
            ],
            [
             0.6666666666666666,
             "#ed7953"
            ],
            [
             0.7777777777777778,
             "#fb9f3a"
            ],
            [
             0.8888888888888888,
             "#fdca26"
            ],
            [
             1,
             "#f0f921"
            ]
           ],
           "sequentialminus": [
            [
             0,
             "#0d0887"
            ],
            [
             0.1111111111111111,
             "#46039f"
            ],
            [
             0.2222222222222222,
             "#7201a8"
            ],
            [
             0.3333333333333333,
             "#9c179e"
            ],
            [
             0.4444444444444444,
             "#bd3786"
            ],
            [
             0.5555555555555556,
             "#d8576b"
            ],
            [
             0.6666666666666666,
             "#ed7953"
            ],
            [
             0.7777777777777778,
             "#fb9f3a"
            ],
            [
             0.8888888888888888,
             "#fdca26"
            ],
            [
             1,
             "#f0f921"
            ]
           ]
          },
          "colorway": [
           "#636efa",
           "#EF553B",
           "#00cc96",
           "#ab63fa",
           "#FFA15A",
           "#19d3f3",
           "#FF6692",
           "#B6E880",
           "#FF97FF",
           "#FECB52"
          ],
          "font": {
           "color": "#2a3f5f"
          },
          "geo": {
           "bgcolor": "white",
           "lakecolor": "white",
           "landcolor": "#E5ECF6",
           "showlakes": true,
           "showland": true,
           "subunitcolor": "white"
          },
          "hoverlabel": {
           "align": "left"
          },
          "hovermode": "closest",
          "mapbox": {
           "style": "light"
          },
          "paper_bgcolor": "white",
          "plot_bgcolor": "#E5ECF6",
          "polar": {
           "angularaxis": {
            "gridcolor": "white",
            "linecolor": "white",
            "ticks": ""
           },
           "bgcolor": "#E5ECF6",
           "radialaxis": {
            "gridcolor": "white",
            "linecolor": "white",
            "ticks": ""
           }
          },
          "scene": {
           "xaxis": {
            "backgroundcolor": "#E5ECF6",
            "gridcolor": "white",
            "gridwidth": 2,
            "linecolor": "white",
            "showbackground": true,
            "ticks": "",
            "zerolinecolor": "white"
           },
           "yaxis": {
            "backgroundcolor": "#E5ECF6",
            "gridcolor": "white",
            "gridwidth": 2,
            "linecolor": "white",
            "showbackground": true,
            "ticks": "",
            "zerolinecolor": "white"
           },
           "zaxis": {
            "backgroundcolor": "#E5ECF6",
            "gridcolor": "white",
            "gridwidth": 2,
            "linecolor": "white",
            "showbackground": true,
            "ticks": "",
            "zerolinecolor": "white"
           }
          },
          "shapedefaults": {
           "line": {
            "color": "#2a3f5f"
           }
          },
          "ternary": {
           "aaxis": {
            "gridcolor": "white",
            "linecolor": "white",
            "ticks": ""
           },
           "baxis": {
            "gridcolor": "white",
            "linecolor": "white",
            "ticks": ""
           },
           "bgcolor": "#E5ECF6",
           "caxis": {
            "gridcolor": "white",
            "linecolor": "white",
            "ticks": ""
           }
          },
          "title": {
           "x": 0.05
          },
          "xaxis": {
           "automargin": true,
           "gridcolor": "white",
           "linecolor": "white",
           "ticks": "",
           "title": {
            "standoff": 15
           },
           "zerolinecolor": "white",
           "zerolinewidth": 2
          },
          "yaxis": {
           "automargin": true,
           "gridcolor": "white",
           "linecolor": "white",
           "ticks": "",
           "title": {
            "standoff": 15
           },
           "zerolinecolor": "white",
           "zerolinewidth": 2
          }
         }
        },
        "title": {
         "text": "log of 1000 wikipedia"
        }
       }
      },
      "text/html": [
       "<div>                            <div id=\"d84fe7fc-99e5-4b96-827f-7a2af4c9f501\" class=\"plotly-graph-div\" style=\"height:525px; width:100%;\"></div>            <script type=\"text/javascript\">                require([\"plotly\"], function(Plotly) {                    window.PLOTLYENV=window.PLOTLYENV || {};                                    if (document.getElementById(\"d84fe7fc-99e5-4b96-827f-7a2af4c9f501\")) {                    Plotly.newPlot(                        \"d84fe7fc-99e5-4b96-827f-7a2af4c9f501\",                        [{\"hole\":0.4,\"hoverinfo\":\"label+percent+name\",\"labels\":[\"Bonnet_phrygien\",\"Alexandre_Fran\\u00e7ois_Marie_de_Beauharnais\",\"1er_r\\u00e9giment_de_dragons\",\"Bataille_de_Cholet\",\"Carle_Vernet\",\"Coup_d'\\u00c9tat_du_18_fructidor_an_V\",\"Caroline_ch\\u00e9rie_(1951)\",\"Club_de_1789\",\"Camille_Borgh\\u00e8se\",\"Adoption_par_Louis_XVI_de_la_cocarde_tricolore\",\"Affaire_R\\u00e9veillon\",\"Andr\\u00e9_Joseph_Abrial\",\"12e_r\\u00e9giment_de_hussards\",\"10e_r\\u00e9giment_de_hussards\",\"13e_r\\u00e9giment_de_hussards\",\"Complot_r\\u00e9volutionnaire_nantais_contre_les_mod\\u00e9r\\u00e9s\",\"Bien_national\",\"Citoyen_actif\",\"Complot_de_l'\\u0152illet\",\"11e_r\\u00e9giment_de_hussards_(France)\",\"Corps_l\\u00e9gislatif_(Consulat_et_Premier_Empire)\",\"Affaire_de_Nancy\",\"Augustin-Jean-Charles_Cl\\u00e9ment\",\"Contributions_directes\",\"Arm\\u00e9e_de_l'Ouest\",\"Charles_Antoine_Chasset\",\"Bon_Albert_Briois_de_Beaumetz\",\"Conspiration_des_poignards\",\"Achille_Lib\\u00e9ral_Treilhard\",\"Chouans_!\",\"Cocarde_tricolore\",\"Affaire_du_camp_de_Grenelle\",\"Ci-devant\",\"Conseil_ex\\u00e9cutif_(R\\u00e9volution_fran\\u00e7aise)\",\"Accapareurs\",\"Comit\\u00e9_eccl\\u00e9siastique\",\"Benjamin_Zix\",\"Conspiration_de_Bic\\u00eatre\",\"Club_des_Impartiaux\",\"Club_de_Salm\",\"Certificat_de_civisme\",\"Comit\\u00e9_d'instruction_publique\",\"Coup_d'\\u00c9tat_du_30_prairial_an_VII_(18_juin_1799)\",\"Complot_de_Charenton\",\"Lassouras\",\"Auguste_Marie_Raymond_d'Arenberg\",\"Antoine_Banassat\",\"Blancs_(R\\u00e9volution_fran\\u00e7aise)\",\"Ilitch\",\"gorille\",\"Pied-bot\",\"Fontes\",\"5\",\"72\",\"Baiser_Lamourette\",\"Loi_du_28_pluvi\\u00f4se_an_VIII\",\"Antoine_Fran\\u00e7ois_P\\u00e9r\\u00e9\",\"brivet\",\"Appel_nominal\",\"Antoine_Alexandre_Hanicque\",\"Berardan\",\"Moniot\",\"K\",\"the\",\"Nguyen\",\"Hocevar\",\"gonzo\",\"Cormier\",\"Cr\\u00e9peau\",\"Danielzik\",\"Keats\",\"Cigale\",\"Mielot\",\"1\",\"M\",\"le\",\"Banqueroute_des_deux_tiers\",\"Schneider\",\"Morand\",\"lapin\",\"113\",\"Kintaro\"],\"name\":\"Name\",\"values\":[63,60,52,37,33,30,29,29,28,27,25,25,25,25,24,22,20,19,18,18,17,17,17,16,16,16,15,15,14,14,13,13,12,12,12,12,11,9,9,9,9,7,6,6,6,6,6,5,4,4,4,4,4,4,3,3,3,3,3,3,2,2,2,2,2,1,1,1,1,1,1,1,1,1,1,1,1,1,1,1,1,1],\"type\":\"pie\"}],                        {\"annotations\":[{\"font\":{\"size\":20},\"showarrow\":false,\"text\":\"Total\",\"x\":0.5,\"y\":0.5}],\"template\":{\"data\":{\"barpolar\":[{\"marker\":{\"line\":{\"color\":\"#E5ECF6\",\"width\":0.5},\"pattern\":{\"fillmode\":\"overlay\",\"size\":10,\"solidity\":0.2}},\"type\":\"barpolar\"}],\"bar\":[{\"error_x\":{\"color\":\"#2a3f5f\"},\"error_y\":{\"color\":\"#2a3f5f\"},\"marker\":{\"line\":{\"color\":\"#E5ECF6\",\"width\":0.5},\"pattern\":{\"fillmode\":\"overlay\",\"size\":10,\"solidity\":0.2}},\"type\":\"bar\"}],\"carpet\":[{\"aaxis\":{\"endlinecolor\":\"#2a3f5f\",\"gridcolor\":\"white\",\"linecolor\":\"white\",\"minorgridcolor\":\"white\",\"startlinecolor\":\"#2a3f5f\"},\"baxis\":{\"endlinecolor\":\"#2a3f5f\",\"gridcolor\":\"white\",\"linecolor\":\"white\",\"minorgridcolor\":\"white\",\"startlinecolor\":\"#2a3f5f\"},\"type\":\"carpet\"}],\"choropleth\":[{\"colorbar\":{\"outlinewidth\":0,\"ticks\":\"\"},\"type\":\"choropleth\"}],\"contourcarpet\":[{\"colorbar\":{\"outlinewidth\":0,\"ticks\":\"\"},\"type\":\"contourcarpet\"}],\"contour\":[{\"colorbar\":{\"outlinewidth\":0,\"ticks\":\"\"},\"colorscale\":[[0.0,\"#0d0887\"],[0.1111111111111111,\"#46039f\"],[0.2222222222222222,\"#7201a8\"],[0.3333333333333333,\"#9c179e\"],[0.4444444444444444,\"#bd3786\"],[0.5555555555555556,\"#d8576b\"],[0.6666666666666666,\"#ed7953\"],[0.7777777777777778,\"#fb9f3a\"],[0.8888888888888888,\"#fdca26\"],[1.0,\"#f0f921\"]],\"type\":\"contour\"}],\"heatmapgl\":[{\"colorbar\":{\"outlinewidth\":0,\"ticks\":\"\"},\"colorscale\":[[0.0,\"#0d0887\"],[0.1111111111111111,\"#46039f\"],[0.2222222222222222,\"#7201a8\"],[0.3333333333333333,\"#9c179e\"],[0.4444444444444444,\"#bd3786\"],[0.5555555555555556,\"#d8576b\"],[0.6666666666666666,\"#ed7953\"],[0.7777777777777778,\"#fb9f3a\"],[0.8888888888888888,\"#fdca26\"],[1.0,\"#f0f921\"]],\"type\":\"heatmapgl\"}],\"heatmap\":[{\"colorbar\":{\"outlinewidth\":0,\"ticks\":\"\"},\"colorscale\":[[0.0,\"#0d0887\"],[0.1111111111111111,\"#46039f\"],[0.2222222222222222,\"#7201a8\"],[0.3333333333333333,\"#9c179e\"],[0.4444444444444444,\"#bd3786\"],[0.5555555555555556,\"#d8576b\"],[0.6666666666666666,\"#ed7953\"],[0.7777777777777778,\"#fb9f3a\"],[0.8888888888888888,\"#fdca26\"],[1.0,\"#f0f921\"]],\"type\":\"heatmap\"}],\"histogram2dcontour\":[{\"colorbar\":{\"outlinewidth\":0,\"ticks\":\"\"},\"colorscale\":[[0.0,\"#0d0887\"],[0.1111111111111111,\"#46039f\"],[0.2222222222222222,\"#7201a8\"],[0.3333333333333333,\"#9c179e\"],[0.4444444444444444,\"#bd3786\"],[0.5555555555555556,\"#d8576b\"],[0.6666666666666666,\"#ed7953\"],[0.7777777777777778,\"#fb9f3a\"],[0.8888888888888888,\"#fdca26\"],[1.0,\"#f0f921\"]],\"type\":\"histogram2dcontour\"}],\"histogram2d\":[{\"colorbar\":{\"outlinewidth\":0,\"ticks\":\"\"},\"colorscale\":[[0.0,\"#0d0887\"],[0.1111111111111111,\"#46039f\"],[0.2222222222222222,\"#7201a8\"],[0.3333333333333333,\"#9c179e\"],[0.4444444444444444,\"#bd3786\"],[0.5555555555555556,\"#d8576b\"],[0.6666666666666666,\"#ed7953\"],[0.7777777777777778,\"#fb9f3a\"],[0.8888888888888888,\"#fdca26\"],[1.0,\"#f0f921\"]],\"type\":\"histogram2d\"}],\"histogram\":[{\"marker\":{\"pattern\":{\"fillmode\":\"overlay\",\"size\":10,\"solidity\":0.2}},\"type\":\"histogram\"}],\"mesh3d\":[{\"colorbar\":{\"outlinewidth\":0,\"ticks\":\"\"},\"type\":\"mesh3d\"}],\"parcoords\":[{\"line\":{\"colorbar\":{\"outlinewidth\":0,\"ticks\":\"\"}},\"type\":\"parcoords\"}],\"pie\":[{\"automargin\":true,\"type\":\"pie\"}],\"scatter3d\":[{\"line\":{\"colorbar\":{\"outlinewidth\":0,\"ticks\":\"\"}},\"marker\":{\"colorbar\":{\"outlinewidth\":0,\"ticks\":\"\"}},\"type\":\"scatter3d\"}],\"scattercarpet\":[{\"marker\":{\"colorbar\":{\"outlinewidth\":0,\"ticks\":\"\"}},\"type\":\"scattercarpet\"}],\"scattergeo\":[{\"marker\":{\"colorbar\":{\"outlinewidth\":0,\"ticks\":\"\"}},\"type\":\"scattergeo\"}],\"scattergl\":[{\"marker\":{\"colorbar\":{\"outlinewidth\":0,\"ticks\":\"\"}},\"type\":\"scattergl\"}],\"scattermapbox\":[{\"marker\":{\"colorbar\":{\"outlinewidth\":0,\"ticks\":\"\"}},\"type\":\"scattermapbox\"}],\"scatterpolargl\":[{\"marker\":{\"colorbar\":{\"outlinewidth\":0,\"ticks\":\"\"}},\"type\":\"scatterpolargl\"}],\"scatterpolar\":[{\"marker\":{\"colorbar\":{\"outlinewidth\":0,\"ticks\":\"\"}},\"type\":\"scatterpolar\"}],\"scatter\":[{\"fillpattern\":{\"fillmode\":\"overlay\",\"size\":10,\"solidity\":0.2},\"type\":\"scatter\"}],\"scatterternary\":[{\"marker\":{\"colorbar\":{\"outlinewidth\":0,\"ticks\":\"\"}},\"type\":\"scatterternary\"}],\"surface\":[{\"colorbar\":{\"outlinewidth\":0,\"ticks\":\"\"},\"colorscale\":[[0.0,\"#0d0887\"],[0.1111111111111111,\"#46039f\"],[0.2222222222222222,\"#7201a8\"],[0.3333333333333333,\"#9c179e\"],[0.4444444444444444,\"#bd3786\"],[0.5555555555555556,\"#d8576b\"],[0.6666666666666666,\"#ed7953\"],[0.7777777777777778,\"#fb9f3a\"],[0.8888888888888888,\"#fdca26\"],[1.0,\"#f0f921\"]],\"type\":\"surface\"}],\"table\":[{\"cells\":{\"fill\":{\"color\":\"#EBF0F8\"},\"line\":{\"color\":\"white\"}},\"header\":{\"fill\":{\"color\":\"#C8D4E3\"},\"line\":{\"color\":\"white\"}},\"type\":\"table\"}]},\"layout\":{\"annotationdefaults\":{\"arrowcolor\":\"#2a3f5f\",\"arrowhead\":0,\"arrowwidth\":1},\"autotypenumbers\":\"strict\",\"coloraxis\":{\"colorbar\":{\"outlinewidth\":0,\"ticks\":\"\"}},\"colorscale\":{\"diverging\":[[0,\"#8e0152\"],[0.1,\"#c51b7d\"],[0.2,\"#de77ae\"],[0.3,\"#f1b6da\"],[0.4,\"#fde0ef\"],[0.5,\"#f7f7f7\"],[0.6,\"#e6f5d0\"],[0.7,\"#b8e186\"],[0.8,\"#7fbc41\"],[0.9,\"#4d9221\"],[1,\"#276419\"]],\"sequential\":[[0.0,\"#0d0887\"],[0.1111111111111111,\"#46039f\"],[0.2222222222222222,\"#7201a8\"],[0.3333333333333333,\"#9c179e\"],[0.4444444444444444,\"#bd3786\"],[0.5555555555555556,\"#d8576b\"],[0.6666666666666666,\"#ed7953\"],[0.7777777777777778,\"#fb9f3a\"],[0.8888888888888888,\"#fdca26\"],[1.0,\"#f0f921\"]],\"sequentialminus\":[[0.0,\"#0d0887\"],[0.1111111111111111,\"#46039f\"],[0.2222222222222222,\"#7201a8\"],[0.3333333333333333,\"#9c179e\"],[0.4444444444444444,\"#bd3786\"],[0.5555555555555556,\"#d8576b\"],[0.6666666666666666,\"#ed7953\"],[0.7777777777777778,\"#fb9f3a\"],[0.8888888888888888,\"#fdca26\"],[1.0,\"#f0f921\"]]},\"colorway\":[\"#636efa\",\"#EF553B\",\"#00cc96\",\"#ab63fa\",\"#FFA15A\",\"#19d3f3\",\"#FF6692\",\"#B6E880\",\"#FF97FF\",\"#FECB52\"],\"font\":{\"color\":\"#2a3f5f\"},\"geo\":{\"bgcolor\":\"white\",\"lakecolor\":\"white\",\"landcolor\":\"#E5ECF6\",\"showlakes\":true,\"showland\":true,\"subunitcolor\":\"white\"},\"hoverlabel\":{\"align\":\"left\"},\"hovermode\":\"closest\",\"mapbox\":{\"style\":\"light\"},\"paper_bgcolor\":\"white\",\"plot_bgcolor\":\"#E5ECF6\",\"polar\":{\"angularaxis\":{\"gridcolor\":\"white\",\"linecolor\":\"white\",\"ticks\":\"\"},\"bgcolor\":\"#E5ECF6\",\"radialaxis\":{\"gridcolor\":\"white\",\"linecolor\":\"white\",\"ticks\":\"\"}},\"scene\":{\"xaxis\":{\"backgroundcolor\":\"#E5ECF6\",\"gridcolor\":\"white\",\"gridwidth\":2,\"linecolor\":\"white\",\"showbackground\":true,\"ticks\":\"\",\"zerolinecolor\":\"white\"},\"yaxis\":{\"backgroundcolor\":\"#E5ECF6\",\"gridcolor\":\"white\",\"gridwidth\":2,\"linecolor\":\"white\",\"showbackground\":true,\"ticks\":\"\",\"zerolinecolor\":\"white\"},\"zaxis\":{\"backgroundcolor\":\"#E5ECF6\",\"gridcolor\":\"white\",\"gridwidth\":2,\"linecolor\":\"white\",\"showbackground\":true,\"ticks\":\"\",\"zerolinecolor\":\"white\"}},\"shapedefaults\":{\"line\":{\"color\":\"#2a3f5f\"}},\"ternary\":{\"aaxis\":{\"gridcolor\":\"white\",\"linecolor\":\"white\",\"ticks\":\"\"},\"baxis\":{\"gridcolor\":\"white\",\"linecolor\":\"white\",\"ticks\":\"\"},\"bgcolor\":\"#E5ECF6\",\"caxis\":{\"gridcolor\":\"white\",\"linecolor\":\"white\",\"ticks\":\"\"}},\"title\":{\"x\":0.05},\"xaxis\":{\"automargin\":true,\"gridcolor\":\"white\",\"linecolor\":\"white\",\"ticks\":\"\",\"title\":{\"standoff\":15},\"zerolinecolor\":\"white\",\"zerolinewidth\":2},\"yaxis\":{\"automargin\":true,\"gridcolor\":\"white\",\"linecolor\":\"white\",\"ticks\":\"\",\"title\":{\"standoff\":15},\"zerolinecolor\":\"white\",\"zerolinewidth\":2}}},\"title\":{\"text\":\"log of 1000 wikipedia\"}},                        {\"responsive\": true}                    ).then(function(){\n",
       "                            \n",
       "var gd = document.getElementById('d84fe7fc-99e5-4b96-827f-7a2af4c9f501');\n",
       "var x = new MutationObserver(function (mutations, observer) {{\n",
       "        var display = window.getComputedStyle(gd).display;\n",
       "        if (!display || display === 'none') {{\n",
       "            console.log([gd, 'removed!']);\n",
       "            Plotly.purge(gd);\n",
       "            observer.disconnect();\n",
       "        }}\n",
       "}});\n",
       "\n",
       "// Listen for the removal of the full notebook cells\n",
       "var notebookContainer = gd.closest('#notebook-container');\n",
       "if (notebookContainer) {{\n",
       "    x.observe(notebookContainer, {childList: true});\n",
       "}}\n",
       "\n",
       "// Listen for the clearing of the current output cell\n",
       "var outputEl = gd.closest('.output');\n",
       "if (outputEl) {{\n",
       "    x.observe(outputEl, {childList: true});\n",
       "}}\n",
       "\n",
       "                        })                };                });            </script>        </div>"
      ]
     },
     "metadata": {},
     "output_type": "display_data"
    }
   ],
   "source": [
    "import chart_studio.plotly as py\n",
    "from plotly.offline import init_notebook_mode, plot, iplot\n",
    "import plotly.graph_objs as go \n",
    "init_notebook_mode(connected=True)\n",
    "val=cot.Name\n",
    "fig={ 'data':[{'values':cot.iloc[:, 1], 'labels':val, 'name':'Name','hoverinfo':'label+percent+name'\n",
    "            , 'hole':.4, 'type':'pie'}],\n",
    "     'layout':{\n",
    "         'title':\"log of 1000 wikipedia\", 'annotations':[{'font':{'size': 20}, 'showarrow':False,'text':'Total',\n",
    "                                'x': .5,'y': .5}]\n",
    "     }\n",
    "}\n",
    "iplot(fig)"
   ]
  },
  {
   "cell_type": "code",
   "execution_count": 74,
   "metadata": {},
   "outputs": [
    {
     "data": {
      "image/png": "[encoded data removed]",
      "text/plain": [
       "<Figure size 1440x720 with 1 Axes>"
      ]
     },
     "metadata": {
      "needs_background": "light"
     },
     "output_type": "display_data"
    }
   ],
   "source": [
    "from wordcloud import WordCloud\n",
    "import matplotlib.pyplot as mlp\n",
    "periods=rog.loc[(rog['Date']>='19-10-2004')&(rog['Date']<='23-07-2008')]\n",
    "items=periods.Name\n",
    "mlp.subplots(figsize=(20,10))\n",
    "wordcloud=WordCloud(background_color=\"red\",width=512,height=200).generate(\"\".join(items))\n",
    "mlp.imshow(wordcloud)\n",
    "mlp.axis('off')\n",
    "mlp.show()"
   ]
  }
 ],
 "metadata": {
  "kernelspec": {
   "display_name": "Python 3.10.4 64-bit",
   "language": "python",
   "name": "python3"
  },
  "language_info": {
   "codemirror_mode": {
    "name": "ipython",
    "version": 3
   },
   "file_extension": ".py",
   "mimetype": "text/x-python",
   "name": "python",
   "nbconvert_exporter": "python",
   "pygments_lexer": "ipython3",
   "version": "3.10.4"
  },
  "orig_nbformat": 4,
  "vscode": {
   "interpreter": {
    "hash": "e1951bf4f1e4a54478a85c93f8dddae7818183ab5295aaafecafdf6faf422790"
   }
  }
 },
 "nbformat": 4,
 "nbformat_minor": 2
}
