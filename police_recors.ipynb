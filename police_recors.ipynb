{
 "cells": [
  {
   "cell_type": "code",
   "execution_count": 1,
   "metadata": {},
   "outputs": [
    {
     "name": "stdout",
     "output_type": "stream",
     "text": [
      "Index(['CMPLNT_NUM', 'ADDR_PCT_CD', 'BORO_NM', 'CMPLNT_FR_DT', 'CMPLNT_FR_TM',\n",
      "       'CMPLNT_TO_DT', 'CMPLNT_TO_TM', 'CRM_ATPT_CPTD_CD', 'HADEVELOPT',\n",
      "       'HOUSING_PSA', 'JURISDICTION_CODE', 'JURIS_DESC', 'KY_CD', 'LAW_CAT_CD',\n",
      "       'LOC_OF_OCCUR_DESC', 'OFNS_DESC', 'PARKS_NM', 'PATROL_BORO', 'PD_CD',\n",
      "       'PD_DESC', 'PREM_TYP_DESC', 'RPT_DT', 'STATION_NAME', 'SUSP_AGE_GROUP',\n",
      "       'SUSP_RACE', 'SUSP_SEX', 'TRANSIT_DISTRICT', 'VIC_AGE_GROUP',\n",
      "       'VIC_RACE', 'VIC_SEX', 'X_COORD_CD', 'Y_COORD_CD', 'Latitude',\n",
      "       'Longitude', 'Lat_Lon', 'New Georeferenced Column'],\n",
      "      dtype='object')\n",
      "0              M\n",
      "1              M\n",
      "2              M\n",
      "3         (null)\n",
      "4              M\n",
      "           ...  \n",
      "209824         M\n",
      "209825    (null)\n",
      "209826    (null)\n",
      "209827         M\n",
      "209828         F\n",
      "Name: SUSP_SEX, Length: 209829, dtype: object\n",
      "count     209829\n",
      "unique         4\n",
      "top            M\n",
      "freq       98652\n",
      "Name: SUSP_SEX, dtype: object\n",
      "(209829, 36)\n"
     ]
    }
   ],
   "source": [
    "import pandas as pd\n",
    "import matplotlib.pyplot as mlp\n",
    "pol=pd.read_csv(r'C:/Users\\deepajay\\Desktop\\PY\\ds\\Jupitar\\jupyter/NYPD_Complaint_Data_Current__Year_To_Date_.csv')\n",
    "print(pol.keys())\n",
    "print(pol['SUSP_SEX'])\n",
    "print(pol['SUSP_SEX'].describe())\n",
    "print(pol.shape)\n"
   ]
  },
  {
   "cell_type": "code",
   "execution_count": 2,
   "metadata": {},
   "outputs": [
    {
     "name": "stdout",
     "output_type": "stream",
     "text": [
      "object\n",
      "['ADDR_PCT_CD', 'HOUSING_PSA', 'JURISDICTION_CODE', 'KY_CD', 'PD_CD', 'TRANSIT_DISTRICT', 'X_COORD_CD', 'Y_COORD_CD', 'Latitude', 'Longitude']\n",
      "------------------------------------------------------------\n",
      "categrorical\n",
      "['CMPLNT_NUM', 'BORO_NM', 'CMPLNT_FR_DT', 'CMPLNT_FR_TM', 'CMPLNT_TO_DT', 'CMPLNT_TO_TM', 'CRM_ATPT_CPTD_CD', 'HADEVELOPT', 'JURIS_DESC', 'LAW_CAT_CD', 'LOC_OF_OCCUR_DESC', 'OFNS_DESC', 'PARKS_NM', 'PATROL_BORO', 'PD_DESC', 'PREM_TYP_DESC', 'RPT_DT', 'STATION_NAME', 'SUSP_AGE_GROUP', 'SUSP_RACE', 'SUSP_SEX', 'VIC_AGE_GROUP', 'VIC_RACE', 'VIC_SEX', 'Lat_Lon', 'New Georeferenced Column']\n",
      "------------------------------------------------------------\n"
     ]
    }
   ],
   "source": [
    "numerical_cols = list(pol.select_dtypes(exclude=['object']))\n",
    "print(\"object\")\n",
    "print(numerical_cols)\n",
    "print('------'*10)\n",
    "category_cols = list(pol.select_dtypes(include=['object']))\n",
    "print(\"categrorical\")\n",
    "print(category_cols)\n",
    "print('------'*10)"
   ]
  },
  {
   "cell_type": "code",
   "execution_count": null,
   "metadata": {},
   "outputs": [],
   "source": []
  },
  {
   "cell_type": "code",
   "execution_count": null,
   "metadata": {},
   "outputs": [],
   "source": [
    "import seaborn \n",
    "mlp.figure(figsize=(10,4))\n",
    "sns.barplot(pol[col].value_counts().values, pol[col].value_counts().index)\n",
    "mlp.title(col)\n",
    "mlp.tight_layout()"
   ]
  },
  {
   "cell_type": "code",
   "execution_count": null,
   "metadata": {},
   "outputs": [],
   "source": [
    "from collections import Counter\n",
    "code=Counter(pol.SUSP_SEX)\n",
    "coss=code.most_common(10000)\n",
    "print(coss)\n",
    "x, y=zip(*coss)\n",
    "x,y=list(x),list(y)\n",
    "name=pd.DataFrame(x)\n",
    "sup=pd.DataFrame(y)\n",
    "cot=pd.concat([name.loc[:,0],sup.loc[:,0]],axis=1)\n",
    "cot.columns=\"SUSP_SEX\",\"Coss\"\n",
    "cot.head(20)"
   ]
  },
  {
   "cell_type": "code",
   "execution_count": null,
   "metadata": {},
   "outputs": [],
   "source": [
    "import chart_studio.plotly as py\n",
    "from plotly.offline import init_notebook_mode, plot, iplot\n",
    "import plotly.graph_objs as go \n",
    "init_notebook_mode(connected=True)\n",
    "val=cot.SUSP_SEX\n",
    "fig={ 'data':[{'values':cot.iloc[:, 1], 'labels':val, 'name':'SUSP_SEX','hoverinfo':'label+percent+name'\n",
    "            , 'hole':.4, 'type':'pie'}],\n",
    "     'layout':{\n",
    "         'title':\"log of 1000 wikipedia\", 'annotations':[{'font':{'size': 20}, 'showarrow':False,'text':'Total',\n",
    "                                'x': .5,'y': .5}]\n",
    "     }\n",
    "}\n",
    "iplot(fig)"
   ]
  },
  {
   "cell_type": "code",
   "execution_count": null,
   "metadata": {},
   "outputs": [],
   "source": [
    "import seaborn as sns\n",
    "print(coss)\n",
    "f, ax=mlp.subplots(figsize=(10,8))\n",
    "ax=sns.countplot(x=\"SUSP_SEX\" , hue='SUSP_SEX',data=pol,palette=\"Set1\")\n",
    "ax.set_title(\"Most of cases by people's graph\")\n",
    "mlp.show()"
   ]
  },
  {
   "cell_type": "code",
   "execution_count": null,
   "metadata": {},
   "outputs": [],
   "source": [
    "# Most of the Cases in which station\n",
    "print(pol['PD_DESC'])\n",
    "print(pol['PD_DESC'].describe())\n",
    "print(pol['PD_DESC'].shape)\n"
   ]
  },
  {
   "cell_type": "code",
   "execution_count": null,
   "metadata": {},
   "outputs": [],
   "source": [
    "from collections import Counter\n",
    "code=Counter(pol.PD_DESC)\n",
    "coss=code.most_common(100)\n",
    "print(coss)\n",
    "x, y=zip(*coss)\n",
    "x,y=list(x),list(y)\n",
    "name=pd.DataFrame(x)\n",
    "sup=pd.DataFrame(y)\n",
    "cot=pd.concat([name.loc[:,0],sup.loc[:,0]],axis=1)\n",
    "cot.columns=\"PD_DESC\",\"Coss\"\n",
    "cot.head(20)"
   ]
  },
  {
   "cell_type": "code",
   "execution_count": null,
   "metadata": {},
   "outputs": [],
   "source": [
    "from wordcloud import WordCloud\n",
    "import matplotlib.pyplot as mlp\n",
    "periods=pol.loc[(pol['ADDR_PCT_CD']>=1)&(pol['ADDR_PCT_CD']<=200)]\n",
    "items=periods.STATION_NAME\n",
    "mlp.subplots(figsize=(20,10))\n",
    "wordcloud=WordCloud(background_color=\"red\",width=512,height=200).generate(\"\".join(items))\n",
    "mlp.imshow(wordcloud)\n",
    "mlp.axis('off')\n",
    "mlp.show()"
   ]
  }
 ],
 "metadata": {
  "kernelspec": {
   "display_name": "Python 3.10.4 64-bit",
   "language": "python",
   "name": "python3"
  },
  "language_info": {
   "codemirror_mode": {
    "name": "ipython",
    "version": 3
   },
   "file_extension": ".py",
   "mimetype": "text/x-python",
   "name": "python",
   "nbconvert_exporter": "python",
   "pygments_lexer": "ipython3",
   "version": "3.10.4"
  },
  "orig_nbformat": 4,
  "vscode": {
   "interpreter": {
    "hash": "e1951bf4f1e4a54478a85c93f8dddae7818183ab5295aaafecafdf6faf422790"
   }
  }
 },
 "nbformat": 4,
 "nbformat_minor": 2
}
