{
 "cells": [
  {
   "cell_type": "code",
   "execution_count": 30,
   "metadata": {},
   "outputs": [
    {
     "name": "stdout",
     "output_type": "stream",
     "text": [
      "    S.No.              Date        Day        Timings  Approx_Hour  \\\n",
      "0     NaN               NaN        NaN            NaN          NaN   \n",
      "1     1.0  February 12,2022   Saturday   8:00-10:00pm          2.0   \n",
      "2     2.0  February 14,2022     Monday    7:30-8:30am          1.0   \n",
      "3     3.0  February 16,2022  Wednesday   8:00-10:00am          2.0   \n",
      "4     4.0  February 19,2022   Saturday    8:30-9:30am          1.0   \n",
      "5     5.0      March 3,2022   Thursday    8:00-9:00pm          1.0   \n",
      "6     6.0      March 8,2022    Tuesday   9:00-10:00pm          1.0   \n",
      "7     7.0      March 9,2022  Wednesday    7:30-8:30pm          1.0   \n",
      "8     8.0     March 11,2022     Friday    7:30-9:30pm          2.0   \n",
      "9     9.0     March 12,2022   Saturday   9:00-10:00am          1.0   \n",
      "10   10.0     March 13,2022     Sunday   9:00-10:00am          1.0   \n",
      "11   11.0     March 15,2022    Tuesday    7:30-8:30pm          1.0   \n",
      "12   12.0     March 17,2022   Thursday    7:30-8:30am          1.0   \n",
      "13   13.0     March 21,2022     Monday  10:00-11:55pm          2.0   \n",
      "14   14.0     March 22,2022    Tuesday  11:00-11:55pm          1.0   \n",
      "\n",
      "    Cumulative_Hour  Unnamed: 6  Unnamed: 7  S.No..1            Date.1  \\\n",
      "0               NaN         NaN         NaN      NaN               NaN   \n",
      "1               2.0         NaN         NaN      1.0   January 11,2022   \n",
      "2               3.0         NaN         NaN      2.0   January 13,2022   \n",
      "3               5.0         NaN         NaN      3.0   January 19,2022   \n",
      "4               6.0         NaN         NaN      4.0   January 20,2022   \n",
      "5               7.0         NaN         NaN      5.0   January 25,2022   \n",
      "6               8.0         NaN         NaN      6.0   January 26,2022   \n",
      "7               9.0         NaN         NaN      7.0   January 27,2022   \n",
      "8              11.0         NaN         NaN      8.0   January 31,2022   \n",
      "9              12.0         NaN         NaN      9.0   February 1,2022   \n",
      "10             13.0         NaN         NaN     10.0   February 6,2022   \n",
      "11             14.0         NaN         NaN     11.0   February 7,2022   \n",
      "12             15.0         NaN         NaN     12.0  February 10,2022   \n",
      "13             17.0         NaN         NaN      NaN               NaN   \n",
      "14             18.0         NaN         NaN      NaN               NaN   \n",
      "\n",
      "        Day.1     Timings.1  Approx_Hour1  Cumulative_Hour1  \n",
      "0         NaN           NaN           NaN               NaN  \n",
      "1     Tuesday   8:00-9:00am           1.0               1.0  \n",
      "2    Thursday   7:30-8:30am           1.0               2.0  \n",
      "3   Wednesday   8:00-9:00am           1.0               3.0  \n",
      "4    Thursday   8:00-9:00am           1.0               4.0  \n",
      "5     Tuesday   7:30-9:00am           1.5               5.5  \n",
      "6   Wednesday  9:00-10:30am           1.5               7.0  \n",
      "7    Thursday   7:30-8:30am           1.0               8.0  \n",
      "8      Monday   7:30-8:30am           1.0               9.0  \n",
      "9     Tuesday   8:00-9:30am           1.5              10.5  \n",
      "10     Sunday  9:00-10:30pm           1.0              12.0  \n",
      "11     Monday   7:00-8:00am           1.0              13.0  \n",
      "12   Thursday   6:00-8:00pm           2.0              15.0  \n",
      "13        NaN           NaN           NaN               NaN  \n",
      "14        NaN           NaN           NaN               NaN  \n",
      "(15, 14)\n",
      "------------------------------------------------------------\n"
     ]
    }
   ],
   "source": [
    "import pandas as pd\n",
    "data=pd.read_csv(r'C:/Users\\deepajay\\Desktop\\qqwwd/Ronak - sheet 10.csv')\n",
    "print(data)\n",
    "print(data.shape)\n",
    "print(\"----\"*15)\n"
   ]
  },
  {
   "cell_type": "code",
   "execution_count": 33,
   "metadata": {},
   "outputs": [
    {
     "name": "stdout",
     "output_type": "stream",
     "text": [
      "[(1.0, 8), (1.5, 3), (nan, 1), (2.0, 1), (nan, 1), (nan, 1)]\n"
     ]
    },
    {
     "data": {
      "text/html": [
       "<div>\n",
       "<style scoped>\n",
       "    .dataframe tbody tr th:only-of-type {\n",
       "        vertical-align: middle;\n",
       "    }\n",
       "\n",
       "    .dataframe tbody tr th {\n",
       "        vertical-align: top;\n",
       "    }\n",
       "\n",
       "    .dataframe thead th {\n",
       "        text-align: right;\n",
       "    }\n",
       "</style>\n",
       "<table border=\"1\" class=\"dataframe\">\n",
       "  <thead>\n",
       "    <tr style=\"text-align: right;\">\n",
       "      <th></th>\n",
       "      <th>Approx_Hour1</th>\n",
       "      <th>Coss</th>\n",
       "    </tr>\n",
       "  </thead>\n",
       "  <tbody>\n",
       "    <tr>\n",
       "      <th>0</th>\n",
       "      <td>1.0</td>\n",
       "      <td>8</td>\n",
       "    </tr>\n",
       "    <tr>\n",
       "      <th>1</th>\n",
       "      <td>1.5</td>\n",
       "      <td>3</td>\n",
       "    </tr>\n",
       "    <tr>\n",
       "      <th>2</th>\n",
       "      <td>NaN</td>\n",
       "      <td>1</td>\n",
       "    </tr>\n",
       "    <tr>\n",
       "      <th>3</th>\n",
       "      <td>2.0</td>\n",
       "      <td>1</td>\n",
       "    </tr>\n",
       "    <tr>\n",
       "      <th>4</th>\n",
       "      <td>NaN</td>\n",
       "      <td>1</td>\n",
       "    </tr>\n",
       "    <tr>\n",
       "      <th>5</th>\n",
       "      <td>NaN</td>\n",
       "      <td>1</td>\n",
       "    </tr>\n",
       "  </tbody>\n",
       "</table>\n",
       "</div>"
      ],
      "text/plain": [
       "   Approx_Hour1  Coss\n",
       "0           1.0     8\n",
       "1           1.5     3\n",
       "2           NaN     1\n",
       "3           2.0     1\n",
       "4           NaN     1\n",
       "5           NaN     1"
      ]
     },
     "execution_count": 33,
     "metadata": {},
     "output_type": "execute_result"
    }
   ],
   "source": [
    "from collections import Counter\n",
    "code=Counter(data.Approx_Hour1)\n",
    "coss=code.most_common(10)\n",
    "print(coss)\n",
    "x, y=zip(*coss)\n",
    "x,y=list(x),list(y)\n",
    "name=pd.DataFrame(x)\n",
    "sup=pd.DataFrame(y)\n",
    "cot=pd.concat([name.loc[:,0],sup.loc[:,0]],axis=1)\n",
    "cot.columns=\"Approx_Hour1\",\"Coss\"\n",
    "cot.head(20)\n",
    "\n"
   ]
  },
  {
   "cell_type": "code",
   "execution_count": 39,
   "metadata": {},
   "outputs": [
    {
     "name": "stdout",
     "output_type": "stream",
     "text": [
      "[(1.0, 10), (2.0, 4), (nan, 1)]\n"
     ]
    },
    {
     "data": {
      "text/html": [
       "<div>\n",
       "<style scoped>\n",
       "    .dataframe tbody tr th:only-of-type {\n",
       "        vertical-align: middle;\n",
       "    }\n",
       "\n",
       "    .dataframe tbody tr th {\n",
       "        vertical-align: top;\n",
       "    }\n",
       "\n",
       "    .dataframe thead th {\n",
       "        text-align: right;\n",
       "    }\n",
       "</style>\n",
       "<table border=\"1\" class=\"dataframe\">\n",
       "  <thead>\n",
       "    <tr style=\"text-align: right;\">\n",
       "      <th></th>\n",
       "      <th>Approx_Hour</th>\n",
       "      <th>Cos</th>\n",
       "    </tr>\n",
       "  </thead>\n",
       "  <tbody>\n",
       "    <tr>\n",
       "      <th>0</th>\n",
       "      <td>1.0</td>\n",
       "      <td>10</td>\n",
       "    </tr>\n",
       "    <tr>\n",
       "      <th>1</th>\n",
       "      <td>2.0</td>\n",
       "      <td>4</td>\n",
       "    </tr>\n",
       "    <tr>\n",
       "      <th>2</th>\n",
       "      <td>NaN</td>\n",
       "      <td>1</td>\n",
       "    </tr>\n",
       "  </tbody>\n",
       "</table>\n",
       "</div>"
      ],
      "text/plain": [
       "   Approx_Hour  Cos\n",
       "0          1.0   10\n",
       "1          2.0    4\n",
       "2          NaN    1"
      ]
     },
     "execution_count": 39,
     "metadata": {},
     "output_type": "execute_result"
    }
   ],
   "source": [
    "cod=Counter(data.Approx_Hour)\n",
    "cos=cod.most_common(10)\n",
    "print(cos)\n",
    "p, q=zip(*cos)\n",
    "p,q=list(p),list(q)\n",
    "nam=pd.DataFrame(p)\n",
    "cup=pd.DataFrame(q)\n",
    "cote=pd.concat([nam.loc[:,0],cup.loc[:,0]],axis=1)\n",
    "cote.columns=\"Approx_Hour\",\"Cos\"\n",
    "cote.head(20)"
   ]
  },
  {
   "cell_type": "code",
   "execution_count": 41,
   "metadata": {},
   "outputs": [
    {
     "name": "stdout",
     "output_type": "stream",
     "text": [
      "   Approx_Hour1  Coss\n",
      "0           1.0     8\n",
      "1           1.5     3\n",
      "2           NaN     1\n",
      "3           2.0     1\n",
      "4           NaN     1\n",
      "--------------------------------------------------\n",
      "   Approx_Hour  Cos\n",
      "0          1.0   10\n",
      "1          2.0    4\n",
      "2          NaN    1\n"
     ]
    }
   ],
   "source": [
    "print(cot.head(5))\n",
    "print(\"-----\"*10)\n",
    "print(cote.head(10))"
   ]
  },
  {
   "cell_type": "code",
   "execution_count": null,
   "metadata": {},
   "outputs": [],
   "source": []
  }
 ],
 "metadata": {
  "kernelspec": {
   "display_name": "Python 3.10.4 64-bit",
   "language": "python",
   "name": "python3"
  },
  "language_info": {
   "codemirror_mode": {
    "name": "ipython",
    "version": 3
   },
   "file_extension": ".py",
   "mimetype": "text/x-python",
   "name": "python",
   "nbconvert_exporter": "python",
   "pygments_lexer": "ipython3",
   "version": "3.10.4"
  },
  "orig_nbformat": 4,
  "vscode": {
   "interpreter": {
    "hash": "e1951bf4f1e4a54478a85c93f8dddae7818183ab5295aaafecafdf6faf422790"
   }
  }
 },
 "nbformat": 4,
 "nbformat_minor": 2
}
